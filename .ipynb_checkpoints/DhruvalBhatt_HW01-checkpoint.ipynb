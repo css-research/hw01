{
 "cells": [
  {
   "cell_type": "markdown",
   "metadata": {},
   "source": [
    "##  Perspectives in Computational Research: Homework 01"
   ]
  },
  {
   "cell_type": "code",
   "execution_count": 1,
   "metadata": {},
   "outputs": [
    {
     "name": "stderr",
     "output_type": "stream",
     "text": [
      "Using TensorFlow backend.\n"
     ]
    }
   ],
   "source": [
    "import random\n",
    "import numpy\n",
    "import matplotlib.pyplot as plt\n",
    "\n",
    "import keras\n",
    "import tensorflow as tf\n",
    "# from keras import models\n",
    "# from keras import layers\n",
    "# from keras import optimizers\n",
    "# from keras import regularizers\n",
    "from keras.datasets import fashion_mnist\n",
    "from keras.utils import to_categorical\n",
    "from sklearn.model_selection import train_test_split"
   ]
  },
  {
   "cell_type": "code",
   "execution_count": 2,
   "metadata": {},
   "outputs": [],
   "source": [
    "random.seed(1234)"
   ]
  },
  {
   "cell_type": "code",
   "execution_count": 3,
   "metadata": {},
   "outputs": [],
   "source": [
    "#Load the Fashion-MNIST dataset\n",
    "(x_train, y_train), (x_test, y_test) = fashion_mnist.load_data()"
   ]
  },
  {
   "cell_type": "code",
   "execution_count": 4,
   "metadata": {},
   "outputs": [
    {
     "name": "stdout",
     "output_type": "stream",
     "text": [
      "(60000, 784)\n"
     ]
    }
   ],
   "source": [
    "#Preprocess the data by converting the data to a 2D tensor with individual values between 0 and 1\n",
    "x_train_full = x_train.reshape((60000, 28*28))\n",
    "x_train_full = x_train_full.astype('float32') / 255\n",
    "\n",
    "x_test_full = x_test.reshape((10000, 28*28))\n",
    "x_test = x_test_full.astype('float32')/ 255\n",
    "\n",
    "y_train_full = to_categorical(y_train)\n",
    "y_test_full = to_categorical(y_test)"
   ]
  },
  {
   "cell_type": "code",
   "execution_count": 5,
   "metadata": {},
   "outputs": [
    {
     "name": "stdout",
     "output_type": "stream",
     "text": [
      "(50000, 784) (50000, 10) (10000, 784) (10000, 10)\n"
     ]
    }
   ],
   "source": [
    "#Randomly split the training data into 50,000 training observations and 10,000 validation observations\n",
    "X_train, X_val, Y_train, Y_val = train_test_split(x_train_full, y_train_full, test_size=1/6)"
   ]
  },
  {
   "cell_type": "markdown",
   "metadata": {},
   "source": [
    "### INITIAL TEST"
   ]
  },
  {
   "cell_type": "code",
   "execution_count": 6,
   "metadata": {},
   "outputs": [],
   "source": [
    "#Setup Model - 5 layers\n",
    "model = keras.Sequential([\n",
    "    keras.layers.Dense(512, activation=tf.nn.relu),\n",
    "    keras.layers.Dense(512, activation=tf.nn.relu),\n",
    "    keras.layers.Dense(512, activation=tf.nn.relu),\n",
    "    keras.layers.Dense(512, activation=tf.nn.relu),\n",
    "    keras.layers.Dense(10, activation=tf.nn.softmax)\n",
    "])"
   ]
  },
  {
   "cell_type": "code",
   "execution_count": 7,
   "metadata": {},
   "outputs": [
    {
     "name": "stdout",
     "output_type": "stream",
     "text": [
      "WARNING:tensorflow:From /home/student/.local/lib/python3.5/site-packages/tensorflow/python/framework/op_def_library.py:263: colocate_with (from tensorflow.python.framework.ops) is deprecated and will be removed in a future version.\n",
      "Instructions for updating:\n",
      "Colocations handled automatically by placer.\n"
     ]
    }
   ],
   "source": [
    "# Compile Model\n",
    "model.compile(optimizer='RMSprop', \n",
    "              loss='categorical_crossentropy',\n",
    "              metrics=['accuracy'])"
   ]
  },
  {
   "cell_type": "code",
   "execution_count": 8,
   "metadata": {},
   "outputs": [
    {
     "name": "stdout",
     "output_type": "stream",
     "text": [
      "WARNING:tensorflow:From /home/student/.local/lib/python3.5/site-packages/tensorflow/python/ops/math_ops.py:3066: to_int32 (from tensorflow.python.ops.math_ops) is deprecated and will be removed in a future version.\n",
      "Instructions for updating:\n",
      "Use tf.cast instead.\n",
      "Train on 50000 samples, validate on 10000 samples\n",
      "Epoch 1/5\n",
      "50000/50000 [==============================] - 24s 480us/step - loss: 14.1446 - acc: 0.1019 - val_loss: 14.4966 - val_acc: 0.1006\n",
      "Epoch 2/5\n",
      "50000/50000 [==============================] - 21s 410us/step - loss: 14.5082 - acc: 0.0999 - val_loss: 14.4966 - val_acc: 0.1006\n",
      "Epoch 3/5\n",
      "50000/50000 [==============================] - 20s 405us/step - loss: 14.5082 - acc: 0.0999 - val_loss: 14.4966 - val_acc: 0.1006\n",
      "Epoch 4/5\n",
      "50000/50000 [==============================] - 21s 428us/step - loss: 14.5082 - acc: 0.0999 - val_loss: 14.4966 - val_acc: 0.1006\n",
      "Epoch 5/5\n",
      "50000/50000 [==============================] - 20s 408us/step - loss: 14.5082 - acc: 0.0999 - val_loss: 14.4966 - val_acc: 0.1006\n"
     ]
    }
   ],
   "source": [
    "#Train Model and Track Accuracy\n",
    "track = model.fit(X_train, Y_train, batch_size = 512, epochs=5, validation_data = (X_val, Y_val))"
   ]
  },
  {
   "cell_type": "code",
   "execution_count": 20,
   "metadata": {},
   "outputs": [
    {
     "data": {
      "text/plain": [
       "[0.10059999996423721,\n",
       " 0.10059999996423721,\n",
       " 0.10059999996423721,\n",
       " 0.10059999996423721,\n",
       " 0.10059999996423721]"
      ]
     },
     "execution_count": 20,
     "metadata": {},
     "output_type": "execute_result"
    }
   ],
   "source": [
    "#Extract Accuracy and Loss from keras callback history\n",
    "metrics = track.history\n",
    "val_accuracy = metrics['val_acc']\n",
    "val_loss = metrics['val_loss']\n",
    "epochs = numpy.arange(1, len(val_accuracy)+1, 1)\n"
   ]
  },
  {
   "cell_type": "code",
   "execution_count": 23,
   "metadata": {},
   "outputs": [
    {
     "data": {
      "image/png": "[encoded data removed]",
      "text/plain": [
       "<Figure size 432x288 with 1 Axes>"
      ]
     },
     "metadata": {
      "needs_background": "light"
     },
     "output_type": "display_data"
    }
   ],
   "source": [
    "#Plot Accuracy over Epochs\n",
    "plt.clf()\n",
    "plt.plot(epochs, val_accuracy)\n",
    "plt.margins(0)\n",
    "plt.title(\"Validation Accuracy over Range of Epochs\")\n",
    "plt.xlabel('Epochs')\n",
    "plt.ylabel(\"Validation Accuracy\")\n",
    "plt.show()"
   ]
  },
  {
   "cell_type": "code",
   "execution_count": 24,
   "metadata": {},
   "outputs": [
    {
     "data": {
      "image/png": "[encoded data removed]",
      "text/plain": [
       "<Figure size 432x288 with 1 Axes>"
      ]
     },
     "metadata": {
      "needs_background": "light"
     },
     "output_type": "display_data"
    }
   ],
   "source": [
    "#Plot Loss over Epochs\n",
    "plt.clf()\n",
    "plt.plot(epochs, val_loss)\n",
    "plt.margins(0)\n",
    "plt.title(\"Validation Loss over Range of Epochs\")\n",
    "plt.xlabel('Epochs')\n",
    "plt.ylabel(\"Validation Loss\")\n",
    "plt.show()"
   ]
  },
  {
   "cell_type": "markdown",
   "metadata": {},
   "source": [
    "Epoch where the model's performance degrades based on validation Set:\n"
   ]
  },
  {
   "cell_type": "markdown",
   "metadata": {},
   "source": [
    "### IMPLEMENT DROPOUT"
   ]
  },
  {
   "cell_type": "code",
   "execution_count": null,
   "metadata": {},
   "outputs": [],
   "source": []
  }
 ],
 "metadata": {
  "kernelspec": {
   "display_name": "Python 3",
   "language": "python",
   "name": "python3"
  },
  "language_info": {
   "codemirror_mode": {
    "name": "ipython",
    "version": 3
   },
   "file_extension": ".py",
   "mimetype": "text/x-python",
   "name": "python",
   "nbconvert_exporter": "python",
   "pygments_lexer": "ipython3",
   "version": "3.5.2"
  }
 },
 "nbformat": 4,
 "nbformat_minor": 2
}
